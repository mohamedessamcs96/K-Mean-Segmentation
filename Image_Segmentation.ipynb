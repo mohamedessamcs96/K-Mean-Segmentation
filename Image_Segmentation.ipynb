{
  "nbformat": 4,
  "nbformat_minor": 0,
  "metadata": {
    "colab": {
      "provenance": []
    },
    "kernelspec": {
      "name": "python3",
      "display_name": "Python 3"
    },
    "language_info": {
      "name": "python"
    }
  },
  "cells": [
    {
      "cell_type": "code",
      "execution_count": null,
      "metadata": {
        "id": "FidNtZus6rU1"
      },
      "outputs": [],
      "source": [
        "import cv2\n",
        "from matplotlib import pyplot as plt\n",
        "\n",
        "# Read the image\n",
        "image = cv2.imread('sunnyday.jpg')\n",
        "\n",
        "# Split the image into color channels\n",
        "b, g, r = cv2.split(image)\n",
        "\n",
        "# Perform histogram equalization on each channel\n",
        "b_eq = cv2.equalizeHist(b)\n",
        "g_eq = cv2.equalizeHist(g)\n",
        "r_eq = cv2.equalizeHist(r)\n",
        "\n",
        "# Merge the equalized channels back into an image\n",
        "equalized_image = cv2.merge([b_eq, g_eq, r_eq])\n",
        "\n",
        "# Display the original and equalized images\n",
        "plt.subplot(121), plt.imshow(cv2.cvtColor(image, cv2.COLOR_BGR2RGB))\n",
        "plt.title('Original Image'), plt.xticks([]), plt.yticks([])\n",
        "plt.subplot(122), plt.imshow(cv2.cvtColor(equalized_image, cv2.COLOR_BGR2RGB))\n",
        "plt.title('Equalized Image'), plt.xticks([]), plt.yticks([])\n",
        "plt.show()\n",
        "\n",
        "# Read the image in grayscale\n",
        "image = cv2.imread('robot.jpeg', cv2.IMREAD_GRAYSCALE)\n",
        "\n",
        "# Apply Sobel operator\n",
        "edges = cv2.Sobel(image, cv2.CV_8U, 1, 1, ksize=3)\n",
        "\n",
        "# Display the edges\n",
        "plt.imshow(edges,cmap='gray')\n",
        "\n",
        "# Apply Gaussian smoothing\n",
        "blurred = cv2.GaussianBlur(image, (3, 3), 0)\n",
        "\n",
        "edges = cv2.Sobel(blurred, cv2.CV_8U, 1, 1, ksize=3)\n",
        "\n",
        "# Display the edges\n",
        "plt.imshow(edges,cmap='gray')\n",
        "\n",
        "import cv2\n",
        "import numpy as np\n",
        "\n",
        "# Read the image\n",
        "image = cv2.imread('street.jpg')\n",
        "# Convert the image from BGR to RGB\n",
        "image = cv2.cvtColor(image, cv2.COLOR_BGR2RGB)\n",
        "# Reshape the image to a 2D array of pixels\n",
        "pixels = image.reshape(-1, 3)\n",
        "\n",
        "# Convert the pixel values to floating-point\n",
        "pixels = np.float32(pixels)\n",
        "\n",
        "# Define the criteria for K-means algorithm\n",
        "criteria = (cv2.TERM_CRITERIA_EPS + cv2.TERM_CRITERIA_MAX_ITER, 10, 1.0)\n",
        "\n",
        "# Perform K-means clustering\n",
        "k = 3  # Number of clusters\n",
        "_, labels, centers = cv2.kmeans(pixels, k, None, criteria, 10, cv2.KMEANS_RANDOM_CENTERS)\n",
        "\n",
        "# Convert the cluster labels to unsigned integers\n",
        "labels = np.uint8(labels)\n",
        "\n",
        "# Reshape the labels to match the original image shape\n",
        "segmented_image = labels.reshape(image.shape[:2])\n",
        "\n",
        "# Display the segmented image\n",
        "plt.imshow(segmented_image)"
      ]
    }
  ]
}